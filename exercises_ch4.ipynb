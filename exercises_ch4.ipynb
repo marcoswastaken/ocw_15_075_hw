{
 "cells": [
  {
   "cell_type": "markdown",
   "metadata": {},
   "source": [
    "## Exercise 4.12\n",
    "\n",
    "Rainfall data for a city is given in the following list. \n",
    "\n",
    "The list contains the amount of rainfall in millimeters for the day that year\n",
    "with the most rainfall."
   ]
  },
  {
   "cell_type": "code",
   "execution_count": 1,
   "metadata": {},
   "outputs": [],
   "source": [
    "import numpy as np\n",
    "\n",
    "\n",
    "data = [1468, 909, 841, 475, 846, 452, \n",
    "        3830, 1397, 556, 978, 1715, 747, \n",
    "        909, 2002, 1331, 1227, 2543, 2649, \n",
    "        1781, 1717, 2718, 584, 859, 1138, \n",
    "        2675, 1872, 1359, 1544, 1372, 1334, \n",
    "        955, 1849, 719, 1737, 1389, 681, \n",
    "        1565, 701, 994, 1188, 962, 1564, \n",
    "        1800, 580, 1106, 880, 850]\n"
   ]
  },
  {
   "cell_type": "code",
   "execution_count": 2,
   "metadata": {},
   "outputs": [
    {
     "name": "stdout",
     "output_type": "stream",
     "text": [
      "Mean: 1347.8297872340424\n",
      "Min: 452\n",
      "25th percentile: 854.5\n",
      "Median: 1227.0\n",
      "75th percentile: 1716.0\n",
      "Max: 3830\n"
     ]
    }
   ],
   "source": [
    "## a) Calculate the mean of the data\n",
    "mean = np.mean(data)\n",
    "\n",
    "## b) Calculate the median of the data\n",
    "median = np.median(data)\n",
    "\n",
    "## c) Calculate the 25th percentile of the data\n",
    "percentile_25 = np.percentile(data, 25)\n",
    "\n",
    "## d) Calculate the 75th percentile of the data\n",
    "percentile_75 = np.percentile(data, 75)\n",
    "\n",
    "## e) Calculate the maximum of the data\n",
    "max_val = np.max(data)\n",
    "\n",
    "## f) Calculate the minimum of the data\n",
    "min_val = np.min(data)\n",
    "\n",
    "print(f\"Mean: {mean}\")\n",
    "print(f\"Min: {min_val}\")\n",
    "print(f\"25th percentile: {percentile_25}\")\n",
    "print(f\"Median: {median}\")\n",
    "print(f\"75th percentile: {percentile_75}\")\n",
    "print(f\"Max: {max_val}\")\n",
    "\n"
   ]
  },
  {
   "cell_type": "code",
   "execution_count": 3,
   "metadata": {},
   "outputs": [
    {
     "data": {
      "text/plain": [
       "(372.5, 489.0)"
      ]
     },
     "execution_count": 3,
     "metadata": {},
     "output_type": "execute_result"
    }
   ],
   "source": [
    "median - percentile_25, percentile_75 - median"
   ]
  },
  {
   "cell_type": "markdown",
   "metadata": {},
   "source": [
    "The mean is above the median, and the gap from the median to the 75-th percentile is larger. So the distribution may be right skewed, if anything."
   ]
  },
  {
   "cell_type": "code",
   "execution_count": 4,
   "metadata": {},
   "outputs": [
    {
     "name": "stdout",
     "output_type": "stream",
     "text": [
      "Standard deviation: 686.2345396204128\n",
      "Estimated Q1: 763.7916857562213\n",
      "Estimated Q3: 1690.2083142437787\n"
     ]
    }
   ],
   "source": [
    "## Calculate the standard deviation of the data\n",
    "std_dev = np.std(data)\n",
    "\n",
    "## Estimate IQR using the standard deviation\n",
    "q1_est =  -1.35/2 * std_dev + median\n",
    "q3_est =  1.35/2 * std_dev + median\n",
    "\n",
    "print(f\"Standard deviation: {std_dev}\")\n",
    "print(f\"Estimated Q1: {q1_est}\")\n",
    "print(f\"Estimated Q3: {q3_est}\")\n"
   ]
  },
  {
   "cell_type": "code",
   "execution_count": 5,
   "metadata": {},
   "outputs": [
    {
     "name": "stdout",
     "output_type": "stream",
     "text": [
      "Estimated standard deviation: 638.1481481481482\n"
     ]
    }
   ],
   "source": [
    "## Estimate the standard deviation using the IQR\n",
    "iqr = percentile_75 - percentile_25\n",
    "std_dev_est = iqr / 1.35\n",
    "\n",
    "print(f\"Estimated standard deviation: {std_dev_est}\")"
   ]
  },
  {
   "cell_type": "code",
   "execution_count": 6,
   "metadata": {},
   "outputs": [
    {
     "name": "stdout",
     "output_type": "stream",
     "text": [
      "Trimmed mean (2): 1377.6976744186047\n",
      "Trimmed mean (3): 1397.4146341463415\n",
      "Trimmed mean (5): 1448.4594594594594\n"
     ]
    }
   ],
   "source": [
    "## Compute the trimmed mean of the data\n",
    "trimmed_mean_2 = np.mean(sorted(data[2:-2]))\n",
    "trimmed_mean_3 = np.mean(sorted(data[3:-3]))\n",
    "trimmed_mean_5 = np.mean(sorted(data[5:-5]))\n",
    "\n",
    "print(f\"Trimmed mean (2): {trimmed_mean_2}\")\n",
    "print(f\"Trimmed mean (3): {trimmed_mean_3}\")\n",
    "print(f\"Trimmed mean (5): {trimmed_mean_5}\")"
   ]
  },
  {
   "cell_type": "markdown",
   "metadata": {},
   "source": [
    "Maybe there are outliers? There's a jump from 1347 to 1448 in the mean if we trim 10% of the data off each end."
   ]
  },
  {
   "cell_type": "code",
   "execution_count": 7,
   "metadata": {},
   "outputs": [
    {
     "data": {
      "image/png": "[encoded data removed]",
      "text/plain": [
       "<Figure size 640x480 with 1 Axes>"
      ]
     },
     "metadata": {},
     "output_type": "display_data"
    }
   ],
   "source": [
    "## plot a histogram of the data\n",
    "import matplotlib.pyplot as plt\n",
    "plt.hist(data, bins=10)\n",
    "plt.show()\n"
   ]
  },
  {
   "cell_type": "code",
   "execution_count": 9,
   "metadata": {},
   "outputs": [
    {
     "name": "stdout",
     "output_type": "stream",
     "text": [
      "Five number summary: [ 452.   854.5 1227.  1716.  3830. ]\n"
     ]
    }
   ],
   "source": [
    "## Calculate the five number summary of the data\n",
    "five_number_summary = np.percentile(data, [0, 25, 50, 75, 100])\n",
    "print(f\"Five number summary: {five_number_summary}\")"
   ]
  },
  {
   "cell_type": "markdown",
   "metadata": {},
   "source": [
    "## Exercise 14.13"
   ]
  },
  {
   "cell_type": "code",
   "execution_count": 10,
   "metadata": {},
   "outputs": [
    {
     "name": "stdout",
     "output_type": "stream",
     "text": [
      " 4 | 52 75 \n",
      " 5 | 56 80 84 \n",
      " 6 | 81 \n",
      " 7 |  1 19 47 \n",
      " 8 | 41 46 50 59 80 \n",
      " 9 |  9  9 55 62 78 94 \n",
      "11 |  6 38 88 \n",
      "12 | 27 \n",
      "13 | 31 34 59 72 89 97 \n",
      "14 | 68 \n",
      "15 | 44 64 65 \n",
      "17 | 15 17 37 81 \n",
      "18 |  0 49 72 \n",
      "20 |  2 \n",
      "25 | 43 \n",
      "26 | 49 75 \n",
      "27 | 18 \n",
      "38 | 30 \n"
     ]
    }
   ],
   "source": [
    "## Make a stem and leaf plot of the data\n",
    "stems = set([int(x/100) for x in data])\n",
    "stems = sorted(list(stems))\n",
    "for stem in stems:\n",
    "    if stem < 10:\n",
    "        print(f\" {stem} | \", end=\"\")\n",
    "    else:\n",
    "        print(f\"{stem} | \", end=\"\")\n",
    "    for leaf in sorted([x for x in data if int(x/100) == stem]):\n",
    "        print(f\"{leaf % 100:2d}\", end=\" \")\n",
    "    print()\n"
   ]
  },
  {
   "cell_type": "code",
   "execution_count": 25,
   "metadata": {},
   "outputs": [
    {
     "data": {
      "image/png": "[encoded data removed]",
      "text/plain": [
       "<Figure size 640x480 with 1 Axes>"
      ]
     },
     "metadata": {},
     "output_type": "display_data"
    }
   ],
   "source": [
    "import scipy.stats as stats\n",
    "## Create a normal plot of the data with the data values on the horizontal axis\n",
    "## and the normal score on the vertical axis.\n",
    "## Also, plot the line of slope 1/sigma and y-intercept -mu/sigma\n",
    "data_sorted = sorted(data)\n",
    "normal_scores = stats.norm.ppf(np.linspace(0, 1, len(data)))\n",
    "plt.plot(data_sorted, normal_scores, \"o\")\n",
    "plt.plot([min(data), max(data)], [min(data)/std_dev, max(data)/std_dev] - mean/std_dev, \"r-\")\n",
    "plt.xlabel(\"Data\")\n",
    "plt.ylabel(\"Normal scores\")\n",
    "\n",
    "plt.show()\n"
   ]
  },
  {
   "cell_type": "markdown",
   "metadata": {},
   "source": [
    "It looks like the data may be right skewed (which is in line with previous observations)."
   ]
  },
  {
   "cell_type": "markdown",
   "metadata": {},
   "source": [
    "## Exercise 4.35"
   ]
  },
  {
   "cell_type": "code",
   "execution_count": 28,
   "metadata": {},
   "outputs": [
    {
     "data": {
      "image/png": "[encoded data removed]",
      "text/plain": [
       "<Figure size 640x480 with 1 Axes>"
      ]
     },
     "metadata": {},
     "output_type": "display_data"
    }
   ],
   "source": [
    "time_data = [7.5, 22.5, 37.5, 52.5, 67.5, 82.5]\n",
    "goal_data = [128, 140, 147, 169, 170, 198]\n",
    "\n",
    "## Make a scatter plot of the data\n",
    "plt.scatter(time_data, goal_data)\n",
    "plt.xlabel(\"Minute\")\n",
    "plt.ylabel(\"Goals\")\n",
    "plt.show()\n"
   ]
  },
  {
   "cell_type": "markdown",
   "metadata": {},
   "source": [
    "The data appears to be increasing, maybe linearly?"
   ]
  },
  {
   "cell_type": "code",
   "execution_count": 29,
   "metadata": {},
   "outputs": [
    {
     "name": "stdout",
     "output_type": "stream",
     "text": [
      "Correlation coefficient: 0.9750365741505286\n"
     ]
    }
   ],
   "source": [
    "## Calculate the correlation coefficient of the data\n",
    "correlation = np.corrcoef(time_data, goal_data)[0, 1]\n",
    "print(f\"Correlation coefficient: {correlation}\")"
   ]
  },
  {
   "cell_type": "markdown",
   "metadata": {},
   "source": [
    "This correlation coefficient suggests a strong positive linear relationship."
   ]
  },
  {
   "cell_type": "code",
   "execution_count": null,
   "metadata": {},
   "outputs": [],
   "source": []
  }
 ],
 "metadata": {
  "kernelspec": {
   "display_name": "data-science",
   "language": "python",
   "name": "python3"
  },
  "language_info": {
   "codemirror_mode": {
    "name": "ipython",
    "version": 3
   },
   "file_extension": ".py",
   "mimetype": "text/x-python",
   "name": "python",
   "nbconvert_exporter": "python",
   "pygments_lexer": "ipython3",
   "version": "3.10.12"
  }
 },
 "nbformat": 4,
 "nbformat_minor": 2
}
