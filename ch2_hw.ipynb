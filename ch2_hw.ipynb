{
 "cells": [
  {
   "cell_type": "markdown",
   "metadata": {},
   "source": [
    "# Assignment 1\n",
    "\n",
    "## Exercise 1\n",
    "\n",
    "Write a script that calculates the mean and median of a sample of 100 uniform random numbers between 0 and 2 and the percentage of points that are greater than 1."
   ]
  },
  {
   "cell_type": "code",
   "execution_count": 7,
   "metadata": {},
   "outputs": [
    {
     "name": "stdout",
     "output_type": "stream",
     "text": [
      "Mean: 1.118724823914039\n",
      "Median: 1.2141799293335778\n",
      "Number of elements greater than 1: 61\n"
     ]
    }
   ],
   "source": [
    "import random\n",
    "\n",
    "# Generate a list of 100 random numbers between 0 and 2\n",
    "random_numbers = [random.uniform(0, 2) for _ in range(100)]\n",
    "\n",
    "# Compute the mean of the list\n",
    "mean = sum(random_numbers) / len(random_numbers)\n",
    "\n",
    "# Compute the median of the list\n",
    "sorted_numbers = sorted(random_numbers)\n",
    "if len(sorted_numbers) % 2 == 0:\n",
    "    median = (sorted_numbers[len(sorted_numbers) // 2 - 1] +\n",
    "              sorted_numbers[len(sorted_numbers) // 2]) / 2\n",
    "else:\n",
    "    median = sorted_numbers[len(sorted_numbers) // 2]\n",
    "\n",
    "## Compute the number of elements greater than 1\n",
    "greater_than_1 = len([x for x in random_numbers if x > 1])\n",
    "\n",
    "print(f\"Mean: {mean}\")\n",
    "print(f\"Median: {median}\")\n",
    "print(f\"Number of elements greater than 1: {greater_than_1}\")"
   ]
  },
  {
   "cell_type": "markdown",
   "metadata": {},
   "source": [
    "## Exercise 2\n",
    "\n",
    "1) Generate a vector of 1000 normal random numbers with mean 8 and variance 25.\n",
    "2) Calculate how many elements in the vector are greater than or equal to 9.\n",
    "3) What is the sample mean and standard deviation for this sample of 1000 numbers?\n",
    "4) What are the 25th and 75th percentiles of the normal distribution with mean 8 and variance 25?\n",
    "5) What are the 25th and 75th percentiles of the sample of the 1000 normal random numbers generated in part (a)\n",
    "6) Find $\\Phi$(0.789) and $\\Phi$(‐0.543). (Where $\\Phi$ is the cumulative density function for the standard\n",
    "normal distribution.)\n"
   ]
  },
  {
   "cell_type": "code",
   "execution_count": null,
   "metadata": {},
   "outputs": [],
   "source": [
    "## Generate a list of 1000 random numbers with mean 8 and variance 25\n",
    "mean = 8\n",
    "variance = 25\n",
    "random_numbers = [random.gauss(mean, variance ** 0.5) for _ in range(1000)]\n",
    "\n",
    "## Compute the number of elements greater than 9\n",
    "greater_than_9 = len([x for x in random_numbers if x > 9])\n",
    "\n",
    "## Compute the standard deviation of the list\n",
    "mean = sum(random_numbers) / len(random_numbers)\n",
    "variance = sum((x - mean) ** 2 for x in random_numbers) / len(random_numbers)\n",
    "std_dev = variance ** 0.5\n",
    "\n"
   ]
  }
 ],
 "metadata": {
  "kernelspec": {
   "display_name": "data-science",
   "language": "python",
   "name": "python3"
  },
  "language_info": {
   "codemirror_mode": {
    "name": "ipython",
    "version": 3
   },
   "file_extension": ".py",
   "mimetype": "text/x-python",
   "name": "python",
   "nbconvert_exporter": "python",
   "pygments_lexer": "ipython3",
   "version": "3.10.12"
  }
 },
 "nbformat": 4,
 "nbformat_minor": 2
}
